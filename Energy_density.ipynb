{
 "cells": [
  {
   "cell_type": "code",
   "execution_count": 3,
   "id": "8962f9ec-4452-4f16-88c7-245823dd35c0",
   "metadata": {},
   "outputs": [],
   "source": [
    "import astropy.units as u\n",
    "import astropy.constants as const\n",
    "import numpy as np"
   ]
  },
  {
   "cell_type": "markdown",
   "id": "c47553c7-d150-461e-a5e0-37339292934a",
   "metadata": {},
   "source": [
    "$$S_E(f) = \\frac{\\pi c^2}{4G}f^2 S_h(f)$$\n",
    "\n",
    "$$\\rho_{c} = \\frac{3H_{0}^2}{8\\pi G}$$\n",
    "\n",
    "$$\\Omega_{GW}(f) = \\frac{fS_E(f)}{\\rho_{c}c^2} = \\frac{\\pi }{4G\\rho_{c}}f^3 S_h(f) = \\frac{2\\pi^2 }{3{H_0}^2}f^3 S_h(f) = \\frac{2\\pi^2 }{3{H_0}^2}f^2 h_c^{2}(f)$$\n",
    "\n",
    "\n",
    "$$\\Omega_{GW}(f) h_{100}^2 = \\Omega_{GW}(f)\\frac{H_0^2}{100^2}  ~~(\\mathrm{km~s^{-1}}/\\mathrm{Mpc})^{-2} = \\frac{\\pi^2 }{15000}f^2 h_c^{2}(f) ~~(\\mathrm{km~s^{-1}}/\\mathrm{Mpc})^{-2} =  \\frac{\\pi^2 }{15000}f^2 h_c^{2}(f) ~~(\\mathrm{km~s^{-1}}/\\mathrm{Mpc})^{-2}  =  6.26 \\times 10^{35} f^2 h_c^{2}(f) ~~(\\mathrm{s^2})$$"
   ]
  },
  {
   "cell_type": "code",
   "execution_count": 33,
   "id": "27069508-7c89-42c9-b62f-d8a86f6b1845",
   "metadata": {},
   "outputs": [
    {
     "data": {
      "text/plain": [
       "9.521406136918415e+38"
      ]
     },
     "execution_count": 33,
     "metadata": {},
     "output_type": "execute_result"
    }
   ],
   "source": [
    "C = u.km / u.second /u.Mpc\n",
    "C2 = C.to('Hz')\n",
    "C2**(-2)"
   ]
  },
  {
   "cell_type": "code",
   "execution_count": 34,
   "id": "a8dccf9e-2090-4197-a31d-4b978102657b",
   "metadata": {},
   "outputs": [
    {
     "data": {
      "text/plain": [
       "6.264834127565947e+35"
      ]
     },
     "execution_count": 34,
     "metadata": {},
     "output_type": "execute_result"
    }
   ],
   "source": [
    " np.pi**2 / 15000 * C2**(-2)"
   ]
  },
  {
   "cell_type": "code",
   "execution_count": null,
   "id": "f0926b80-0a41-42c3-8a3f-a5ed3ee3d61d",
   "metadata": {},
   "outputs": [],
   "source": []
  }
 ],
 "metadata": {
  "kernelspec": {
   "display_name": "Python 3 (ipykernel)",
   "language": "python",
   "name": "python3"
  },
  "language_info": {
   "codemirror_mode": {
    "name": "ipython",
    "version": 3
   },
   "file_extension": ".py",
   "mimetype": "text/x-python",
   "name": "python",
   "nbconvert_exporter": "python",
   "pygments_lexer": "ipython3",
   "version": "3.11.5"
  }
 },
 "nbformat": 4,
 "nbformat_minor": 5
}
